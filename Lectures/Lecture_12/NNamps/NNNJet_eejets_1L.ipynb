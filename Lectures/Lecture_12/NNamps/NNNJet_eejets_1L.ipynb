{
 "cells": [
  {
   "cell_type": "code",
   "execution_count": 21,
   "metadata": {},
   "outputs": [],
   "source": [
    "import os\n",
    "import sys\n",
    "\n",
    "NJET_BLHA='/Users/simon/packages/njet-3.1.1-1L/blha/'\n",
    "sys.path.append(NJET_BLHA)\n",
    "\n",
    "import numpy as np\n",
    "from pstools.rambo import generate, dot\n",
    "from njettools.njet_interface import *\n",
    "from nntools.model import Model\n",
    "\n",
    "import matplotlib.pyplot as plt\n",
    "%matplotlib inline"
   ]
  },
  {
   "cell_type": "code",
   "execution_count": 22,
   "metadata": {},
   "outputs": [],
   "source": [
    "# set a BLHA file to provide squared amplitudes via NJe\n",
    "n_final = 4;\n",
    "contract_file = 'NJ_contract_ee'+str(n_final)+'j.lh'"
   ]
  },
  {
   "cell_type": "code",
   "execution_count": 23,
   "metadata": {},
   "outputs": [],
   "source": [
    "# choose the number of training points (will later be split into NN train/test set)\n",
    "n_training_points = 1000\n",
    "n_points = 2000 # points for the inference\n",
    "delta_cut = 0.03"
   ]
  },
  {
   "cell_type": "code",
   "execution_count": 13,
   "metadata": {},
   "outputs": [
    {
     "name": "stderr",
     "output_type": "stream",
     "text": [
      "100%|██████████| 1000/1000 [00:01<00:00, 858.72it/s]\n"
     ]
    }
   ],
   "source": [
    "# generate 2 -> n_jets phase-space points for training\n",
    "momenta, n_trials = generate(n_final, n_training_points, rts=1000., delta=delta_cut)\n",
    "momenta = momenta.tolist()"
   ]
  },
  {
   "cell_type": "code",
   "execution_count": 14,
   "metadata": {},
   "outputs": [
    {
     "name": "stdout",
     "output_type": "stream",
     "text": [
      "OLP read in correctly\n"
     ]
    }
   ],
   "source": [
    "# start the NJet interface\n",
    "olp = njet.OLP()\n",
    "status = njet_init(contract_file)\n",
    "\n",
    "if status == True:\n",
    "    print (\"OLP read in correctly\")\n",
    "else:\n",
    "    print (\"seems to be a problem with the contract file...\")"
   ]
  },
  {
   "cell_type": "code",
   "execution_count": 15,
   "metadata": {},
   "outputs": [],
   "source": [
    "mur = 100.\n",
    "alphas = 0.118\n",
    "alpha = 1/137."
   ]
  },
  {
   "cell_type": "code",
   "execution_count": 16,
   "metadata": {},
   "outputs": [
    {
     "name": "stdout",
     "output_type": "stream",
     "text": [
      "1/eps^2 pole divided by tree -17.33333333333332\n",
      "1/eps^1 pole divided by tree 22.373939538615613\n"
     ]
    }
   ],
   "source": [
    "# demonstrating the evaluation of loop-level matrix element squared\n",
    "testval0 = olp.OLP_EvalSubProcess(1,\n",
    "                       momenta[0],\n",
    "                       alphas=alphas,\n",
    "                       alpha=alpha,\n",
    "                       mur=mur,\n",
    "                       retlen=7)\n",
    "\n",
    "print(\"1/eps^2 pole divided by tree\", 4*np.pi/alphas*testval0[0]/testval0[3])\n",
    "print(\"1/eps^1 pole divided by tree\", 4*np.pi/alphas*testval0[1]/testval0[3])"
   ]
  },
  {
   "cell_type": "code",
   "execution_count": 17,
   "metadata": {},
   "outputs": [
    {
     "name": "stderr",
     "output_type": "stream",
     "text": [
      "100%|██████████| 1000/1000 [04:44<00:00,  3.52it/s]\n"
     ]
    }
   ],
   "source": [
    "NJ_loopvals = [];\n",
    "pbar = tqdm(total=n_training_points)\n",
    "for pt in range(n_training_points):\n",
    "    vals = olp.OLP_EvalSubProcess(1, momenta[pt], alphas=alphas, alpha=alpha, mur=mur, retlen=7)\n",
    "    NJ_loopvals.append(vals[2]/vals[3])\n",
    "    pbar.update(1)\n",
    "pbar.close()"
   ]
  },
  {
   "cell_type": "code",
   "execution_count": 18,
   "metadata": {},
   "outputs": [],
   "source": [
    "# dump generated data in case NJet and interface not available\n",
    "np.save(\"data/NJ1L_ee\"+str(n_final)+\"j_loop_momenta.npy\", momenta)\n",
    "np.save(\"data/NJ1L_ee\"+str(n_final)+\"j_loop_values.npy\", NJ_loopvals)"
   ]
  },
  {
   "cell_type": "code",
   "execution_count": 24,
   "metadata": {},
   "outputs": [],
   "source": [
    "momenta = np.load(\"data/NJ1L_ee\"+str(n_final)+\"j_loop_momenta.npy\")\n",
    "NJ_treevals = np.load(\"data/NJ1L_ee\"+str(n_final)+\"j_loop_values.npy\")\n",
    "n_training_points = len(momenta)"
   ]
  },
  {
   "cell_type": "code",
   "execution_count": 25,
   "metadata": {},
   "outputs": [],
   "source": [
    "NN = Model(\n",
    "    (2+n_final)*4, # train with all momenta components \n",
    "    momenta[:n_training_points], # input data from Rambo PS generator\n",
    "    np.array(NJ_loopvals) # data points from NJet evaluations\n",
    ")"
   ]
  },
  {
   "cell_type": "code",
   "execution_count": 26,
   "metadata": {},
   "outputs": [
    {
     "name": "stdout",
     "output_type": "stream",
     "text": [
      "processing training data using scaling =  standardise\n",
      "The training dataset has size (800, 24)\n",
      "Epoch 1/10000\n",
      "800/800 [==============================] - 1s 1ms/sample - loss: 1.7242 - val_loss: 1.4262\n"
     ]
    }
   ],
   "source": [
    "model, x_mean, x_std, y_mean, y_std = NN.fit(layers=[16,32,16], epoch_interval=100)"
   ]
  },
  {
   "cell_type": "code",
   "execution_count": 27,
   "metadata": {},
   "outputs": [
    {
     "name": "stderr",
     "output_type": "stream",
     "text": [
      "100%|██████████| 2000/2000 [00:01<00:00, 1544.43it/s]\n"
     ]
    }
   ],
   "source": [
    "newmomenta, n_trials2 = generate(n_final, n_points, rts=1000., delta=delta_cut)\n",
    "newmomenta = newmomenta.tolist()"
   ]
  },
  {
   "cell_type": "code",
   "execution_count": null,
   "metadata": {},
   "outputs": [],
   "source": [
    "NJ_loopvals_test = [];\n",
    "pbar = tqdm(total=n_training_points)\n",
    "for pt in range(n_training_points):\n",
    "    vals = olp.OLP_EvalSubProcess(1, newmomenta[pt], alphas=alphas, alpha=alpha, mur=mur, retlen=7)\n",
    "    NJ_loopvals_test.append(vals[2]/vals[3])\n",
    "    pbar.update(1)\n",
    "pbar.close()"
   ]
  },
  {
   "cell_type": "code",
   "execution_count": null,
   "metadata": {},
   "outputs": [],
   "source": [
    "x_standardized = NN.process_testing_data(moms=newmomenta,x_mean=x_mean,x_std=x_std,y_mean=y_mean,y_std=y_std)\n",
    "\n",
    "mpred = model.predict(x_standardized)\n",
    "\n",
    "amp_pred = NN.destandardise_data(mpred.reshape(-1),x_mean=x_mean,x_std=x_std,y_mean=y_mean,y_std=y_std)\n",
    "\n",
    "diff = (amp_pred-np.array(NJ_loopvals_test))/(amp_pred+np.array(NJ_loopvals_test))"
   ]
  },
  {
   "cell_type": "code",
   "execution_count": null,
   "metadata": {},
   "outputs": [],
   "source": [
    "plt.hist(diff, density=False, bins=1000)\n",
    "plt.xlim([-3,3])\n",
    "plt.ylabel('Relative Accuracy')\n",
    "plt.xlabel('Data');"
   ]
  },
  {
   "cell_type": "code",
   "execution_count": null,
   "metadata": {},
   "outputs": [],
   "source": [
    "logdiff = np.log10(abs(diff))"
   ]
  },
  {
   "cell_type": "code",
   "execution_count": null,
   "metadata": {},
   "outputs": [],
   "source": [
    "plt.hist(logdiff, density=False, bins=100)\n",
    "plt.xlim([-5,1])\n",
    "plt.ylabel('Log Accuracy')\n",
    "plt.xlabel('Data');"
   ]
  },
  {
   "cell_type": "code",
   "execution_count": null,
   "metadata": {},
   "outputs": [],
   "source": []
  }
 ],
 "metadata": {
  "kernelspec": {
   "display_name": "Python 3",
   "language": "python",
   "name": "python3"
  },
  "language_info": {
   "codemirror_mode": {
    "name": "ipython",
    "version": 3
   },
   "file_extension": ".py",
   "mimetype": "text/x-python",
   "name": "python",
   "nbconvert_exporter": "python",
   "pygments_lexer": "ipython3",
   "version": "3.6.13"
  }
 },
 "nbformat": 4,
 "nbformat_minor": 2
}
