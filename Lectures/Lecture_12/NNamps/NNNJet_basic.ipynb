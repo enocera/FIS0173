{
 "cells": [
  {
   "cell_type": "code",
   "execution_count": null,
   "metadata": {},
   "outputs": [],
   "source": [
    "import os\n",
    "import sys\n",
    "\n",
    "NJET_BLHA='/Users/simon/packages/njet-3.1.1-1L/blha/'\n",
    "sys.path.append(NJET_BLHA)\n",
    "\n",
    "import numpy as np\n",
    "from pstools.rambo import generate, dot\n",
    "from njettools.njet_interface import *\n",
    "from nntools.model import Model"
   ]
  },
  {
   "cell_type": "markdown",
   "metadata": {},
   "source": [
    "# Setup in NJet interface to ee->3j amplitudes #"
   ]
  },
  {
   "cell_type": "code",
   "execution_count": null,
   "metadata": {},
   "outputs": [],
   "source": [
    "# set a BLHA file to provide squared amplitudes via NJet\n",
    "contract_file = 'NJ_contract_ee3j_tree.lh'"
   ]
  },
  {
   "cell_type": "code",
   "execution_count": null,
   "metadata": {},
   "outputs": [],
   "source": [
    "# choose the number of training points (will later be split into NN train/test set)\n",
    "n_training_points = 100000\n",
    "# choose the number of points for interpolation tests after training\n",
    "# NB - different from the training/validation split during training\n",
    "n_test_points = 500000\n",
    "n_points = n_training_points+n_test_points\n",
    "delta_cut = 0.02"
   ]
  },
  {
   "cell_type": "markdown",
   "metadata": {},
   "source": [
    "# Generate phase space points (RAMBO) and run NJet #"
   ]
  },
  {
   "cell_type": "code",
   "execution_count": null,
   "metadata": {},
   "outputs": [],
   "source": [
    "# generate 2 -> 3 phase-space points for training\n",
    "momenta, n_trials = generate(3, n_points, rts=1000., delta=delta_cut)\n",
    "momenta = momenta.tolist()"
   ]
  },
  {
   "cell_type": "code",
   "execution_count": null,
   "metadata": {},
   "outputs": [],
   "source": [
    "n_legs = len(momenta[0])\n",
    "print(n_legs, n_points, n_points/n_trials)"
   ]
  },
  {
   "cell_type": "code",
   "execution_count": null,
   "metadata": {},
   "outputs": [],
   "source": [
    "# check phase-space point satisfies momentum conservation\n",
    "p = momenta[0]\n",
    "-p[0]-p[1]+p[2]+p[3]+p[4]"
   ]
  },
  {
   "cell_type": "code",
   "execution_count": null,
   "metadata": {},
   "outputs": [],
   "source": [
    "# start the NJet interface\n",
    "olp = njet.OLP()\n",
    "status = njet_init(contract_file)\n",
    "\n",
    "if status == True:\n",
    "    print (\"OLP read in correctly\")\n",
    "else:\n",
    "    print (\"seems to be a problem with the contract file...\")"
   ]
  },
  {
   "cell_type": "code",
   "execution_count": null,
   "metadata": {},
   "outputs": [],
   "source": [
    "mur = 100.\n",
    "alphas = 0.118\n",
    "alpha = 1/137."
   ]
  },
  {
   "cell_type": "code",
   "execution_count": null,
   "metadata": {},
   "outputs": [],
   "source": [
    "# demonstrating the evaluation of tree-level matrix element squared\n",
    "testval0 = olp.OLP_EvalSubProcess(1,\n",
    "                       momenta[0],\n",
    "                       alphas=alphas,\n",
    "                       alpha=alpha,\n",
    "                       mur=mur,\n",
    "                       retlen=1)\n",
    "\n",
    "print(testval0)\n",
    "\n",
    "testval1 = olp.OLP_EvalSubProcess(1,\n",
    "                       momenta[1],\n",
    "                       alphas=alphas,\n",
    "                       alpha=alpha,\n",
    "                       mur=mur,\n",
    "                       retlen=1)\n",
    "\n",
    "print(testval1)"
   ]
  },
  {
   "cell_type": "code",
   "execution_count": null,
   "metadata": {},
   "outputs": [],
   "source": [
    "# checking against analytic formula\n",
    "# a,b -> 1q,2qb,3g\n",
    "\n",
    "def amp0sq(alphas, p):\n",
    "    # match some (not very sensible) conventions in NJet\n",
    "    norm = (16*np.pi)**3/16\n",
    "    \n",
    "    Qu = 2/3 # fractional quark charge\n",
    "    Nc = 3\n",
    "    CF = (Nc**2-1)/(2.*Nc)\n",
    "\n",
    "    sab=2*dot(p[0],p[1])\n",
    "    s12=2*dot(p[2],p[3])\n",
    "    s13=2*dot(p[2],p[4])\n",
    "    s23=2*dot(p[3],p[4])\n",
    "\n",
    "    s1a=-2*dot(p[2],p[0])\n",
    "    s1b=-2*dot(p[2],p[1])\n",
    "    s2a=-2*dot(p[3],p[0])\n",
    "    s2b=-2*dot(p[3],p[1])\n",
    "\n",
    "    amp0sq = Qu**2*norm*alphas*CF*Nc*(s1a**2+s1b**2+s2a**2+s2b**2)/(sab*s13*s23)\n",
    "    return amp0sq"
   ]
  },
  {
   "cell_type": "code",
   "execution_count": null,
   "metadata": {},
   "outputs": [],
   "source": [
    "print(\"|A|^2  =\", amp0sq(alphas, momenta[0]))\n",
    "print(\"ratio = \", amp0sq(alphas, momenta[0])/testval0[0])\n",
    "\n",
    "print(\"|A|^2  =\", amp0sq(alphas, momenta[1]))\n",
    "print(\"ratio = \", amp0sq(alphas, momenta[1])/testval1[0])"
   ]
  },
  {
   "cell_type": "code",
   "execution_count": null,
   "metadata": {},
   "outputs": [],
   "source": [
    "NJ_treevals = [];\n",
    "for pt in range(n_points):\n",
    "    vals = olp.OLP_EvalSubProcess(1, momenta[pt], alphas=alphas, alpha=alpha, mur=mur, retlen=1)\n",
    "    NJ_treevals.append(vals[0])"
   ]
  },
  {
   "cell_type": "code",
   "execution_count": null,
   "metadata": {},
   "outputs": [],
   "source": [
    "# dump generated data in case NJet and interface not available\n",
    "np.save(\"data/NJbasic_ee3j_tree_momenta.npy\", momenta)\n",
    "np.save(\"data/NJbasic_ee3j_tree_values.npy\", NJ_treevals)"
   ]
  },
  {
   "cell_type": "markdown",
   "metadata": {},
   "source": [
    "# Train NN with amplitude data #"
   ]
  },
  {
   "cell_type": "code",
   "execution_count": null,
   "metadata": {},
   "outputs": [],
   "source": [
    "momentaALL = np.load(\"data/NJbasic_ee3j_tree_momenta.npy\")\n",
    "NJ_treevalsALL = np.load(\"data/NJbasic_ee3j_tree_values.npy\")"
   ]
  },
  {
   "cell_type": "code",
   "execution_count": null,
   "metadata": {},
   "outputs": [],
   "source": [
    "momenta = momentaALL[:n_training_points]\n",
    "NJ_treevals = NJ_treevalsALL[:n_training_points]"
   ]
  },
  {
   "cell_type": "code",
   "execution_count": null,
   "metadata": {},
   "outputs": [],
   "source": [
    "NN = Model(\n",
    "    5*4, # train with all momenta components \n",
    "    momenta, # input data from Rambo PS generator\n",
    "    np.array(NJ_treevals) # data points from NJet evaluations\n",
    ")"
   ]
  },
  {
   "cell_type": "code",
   "execution_count": null,
   "metadata": {},
   "outputs": [],
   "source": [
    "model, x_mean, x_std, y_mean, y_std = NN.fit(layers=[16,32,16], epoch_interval=100)"
   ]
  },
  {
   "cell_type": "code",
   "execution_count": null,
   "metadata": {},
   "outputs": [],
   "source": [
    "testmoms = momenta"
   ]
  },
  {
   "cell_type": "code",
   "execution_count": null,
   "metadata": {},
   "outputs": [],
   "source": [
    "x_standardized = NN.process_testing_data(moms=testmoms,\n",
    "                                         x_mean=x_mean,\n",
    "                                         x_std=x_std,\n",
    "                                         y_mean=y_mean,\n",
    "                                         y_std=y_std)"
   ]
  },
  {
   "cell_type": "code",
   "execution_count": null,
   "metadata": {},
   "outputs": [],
   "source": [
    "mpred = model.predict(x_standardized)"
   ]
  },
  {
   "cell_type": "code",
   "execution_count": null,
   "metadata": {},
   "outputs": [],
   "source": [
    "amp_pred = NN.destandardise_data(mpred.reshape(-1),x_mean=x_mean,x_std=x_std,y_mean=y_mean,y_std=y_std)"
   ]
  },
  {
   "cell_type": "code",
   "execution_count": null,
   "metadata": {},
   "outputs": [],
   "source": [
    "diff = (amp_pred-np.array(NJ_treevals))/(amp_pred+np.array(NJ_treevals))"
   ]
  },
  {
   "cell_type": "code",
   "execution_count": null,
   "metadata": {},
   "outputs": [],
   "source": [
    "np.average(diff)"
   ]
  },
  {
   "cell_type": "code",
   "execution_count": null,
   "metadata": {},
   "outputs": [],
   "source": [
    "max(diff)"
   ]
  },
  {
   "cell_type": "code",
   "execution_count": null,
   "metadata": {},
   "outputs": [],
   "source": [
    "min(diff)"
   ]
  },
  {
   "cell_type": "code",
   "execution_count": null,
   "metadata": {},
   "outputs": [],
   "source": [
    "np.median(diff)"
   ]
  },
  {
   "cell_type": "code",
   "execution_count": null,
   "metadata": {},
   "outputs": [],
   "source": [
    "import matplotlib.pyplot as plt\n",
    "%matplotlib inline\n",
    "\n",
    "plt.hist(diff, density=False, bins=500)\n",
    "plt.xlim([-2,2])\n",
    "plt.ylabel('Accuracy')\n",
    "plt.xlabel('Data');"
   ]
  },
  {
   "cell_type": "markdown",
   "metadata": {},
   "source": [
    "# test trained network #"
   ]
  },
  {
   "cell_type": "code",
   "execution_count": null,
   "metadata": {},
   "outputs": [],
   "source": [
    "momenta_test = momentaALL[n_training_points:]\n",
    "NJ_treevals_test = NJ_treevalsALL[n_training_points:]"
   ]
  },
  {
   "cell_type": "code",
   "execution_count": null,
   "metadata": {},
   "outputs": [],
   "source": [
    "len(NJ_treevals_test)"
   ]
  },
  {
   "cell_type": "code",
   "execution_count": null,
   "metadata": {},
   "outputs": [],
   "source": [
    "x_standardized = NN.process_testing_data(moms=momenta_test,x_mean=x_mean,x_std=x_std,y_mean=y_mean,y_std=y_std)\n",
    "\n",
    "mpred = model.predict(x_standardized)\n",
    "\n",
    "amp_pred = NN.destandardise_data(mpred.reshape(-1),x_mean=x_mean,x_std=x_std,y_mean=y_mean,y_std=y_std)\n",
    "\n",
    "diff = 2.*(amp_pred-np.array(NJ_treevals_test))/(amp_pred+np.array(NJ_treevals_test))"
   ]
  },
  {
   "cell_type": "code",
   "execution_count": null,
   "metadata": {},
   "outputs": [],
   "source": [
    "mybins = np.histogram_bin_edges(diff, bins=100, range=(-2,2))\n",
    "\n",
    "plt.hist(diff, density=False, bins=100)\n",
    "plt.xlim([-2,2])\n",
    "plt.ylabel('Accuracy')\n",
    "plt.xlabel('Data');"
   ]
  },
  {
   "cell_type": "code",
   "execution_count": null,
   "metadata": {},
   "outputs": [],
   "source": [
    "logdiff = np.log10(abs(diff))\n",
    "\n",
    "mybins = np.histogram_bin_edges(logdiff, bins=100, range=(-4,1))\n",
    "plt.hist(logdiff, density=False, bins=100)\n",
    "plt.xlim([-5,1])\n",
    "plt.ylabel('Log Accuracy')\n",
    "plt.xlabel('Data');"
   ]
  },
  {
   "cell_type": "code",
   "execution_count": null,
   "metadata": {},
   "outputs": [],
   "source": [
    "logratio = np.log10(amp_pred/np.array(NJ_treevals_test))\n",
    "\n",
    "mybins = np.histogram_bin_edges(logratio, bins=100, range=(-4,1))\n",
    "plt.hist(logratio, density=False, bins=100)\n",
    "plt.xlim([-1,1])\n",
    "plt.ylabel('Log Accuracy')\n",
    "plt.xlabel('Data');"
   ]
  },
  {
   "cell_type": "markdown",
   "metadata": {},
   "source": [
    "# cross-section check #"
   ]
  },
  {
   "cell_type": "code",
   "execution_count": null,
   "metadata": {},
   "outputs": [],
   "source": [
    "np.mean(NJ_treevals_test), np.std(NJ_treevals_test)*np.mean(NJ_treevals_test)"
   ]
  },
  {
   "cell_type": "code",
   "execution_count": null,
   "metadata": {},
   "outputs": [],
   "source": [
    "np.mean(amp_pred), np.std(amp_pred)*np.mean(amp_pred)"
   ]
  },
  {
   "cell_type": "code",
   "execution_count": null,
   "metadata": {},
   "outputs": [],
   "source": [
    "xs_NJ = []\n",
    "xs_NN = []\n",
    "for i in range(1,n_test_points):\n",
    "    xs_NJ.append([np.mean(NJ_treevals_test[0:i]), np.std(NJ_treevals_test[0:i])])\n",
    "    xs_NN.append([np.mean(amp_pred[0:i]), np.std(amp_pred[0:i])])\n",
    "\n",
    "xs_NJ = np.array(xs_NJ)\n",
    "xs_NN = np.array(xs_NN)"
   ]
  },
  {
   "cell_type": "code",
   "execution_count": null,
   "metadata": {},
   "outputs": [],
   "source": [
    "xs_NJ = [[np.mean(NJ_treevals_test[0:i]), np.std(NJ_treevals_test[0:i])] for i in range(1,int(n_test_points))]\n",
    "xs_NN = [[np.mean(amp_pred[0:i]), np.std(amp_pred[0:i])] for i in range(1,int(n_test_points))]"
   ]
  },
  {
   "cell_type": "code",
   "execution_count": null,
   "metadata": {},
   "outputs": [],
   "source": [
    "xs_NJ = np.array(xs_NJ)\n",
    "xs_NN = np.array(xs_NN)"
   ]
  },
  {
   "cell_type": "code",
   "execution_count": null,
   "metadata": {},
   "outputs": [],
   "source": [
    "plotdata1 = xs_NJ[0::100,0]\n",
    "len(plotdata1)"
   ]
  },
  {
   "cell_type": "code",
   "execution_count": null,
   "metadata": {},
   "outputs": [],
   "source": [
    "plotdata2 = xs_NN[0::100,0]\n",
    "len(plotdata2)"
   ]
  },
  {
   "cell_type": "code",
   "execution_count": null,
   "metadata": {},
   "outputs": [],
   "source": [
    "plt.plot(100*np.array(range(len(plotdata1))), plotdata1, 'b-', label='NJet')\n",
    "plt.plot(100*np.array(range(len(plotdata2))), plotdata2, 'r-', label='NN')\n",
    "plt.xlim([0,n_points])\n",
    "plt.ylim([0.040,0.055])\n",
    "plt.ylabel('sigma')\n",
    "plt.xlabel('iteration');\n",
    "plt.text(n_test_points/10,0.052,'delta cut = '+str(delta_cut))\n",
    "plt.legend()"
   ]
  },
  {
   "cell_type": "code",
   "execution_count": null,
   "metadata": {},
   "outputs": [],
   "source": []
  }
 ],
 "metadata": {
  "kernelspec": {
   "display_name": "Python 3 (ipykernel)",
   "language": "python",
   "name": "python3"
  },
  "language_info": {
   "codemirror_mode": {
    "name": "ipython",
    "version": 3
   },
   "file_extension": ".py",
   "mimetype": "text/x-python",
   "name": "python",
   "nbconvert_exporter": "python",
   "pygments_lexer": "ipython3",
   "version": "3.8.13"
  }
 },
 "nbformat": 4,
 "nbformat_minor": 2
}
