{
 "cells": [
  {
   "cell_type": "code",
   "execution_count": 2,
   "id": "a0e97c0f",
   "metadata": {},
   "outputs": [],
   "source": [
    "import re\n",
    "import string\n",
    "# natural language toolkit\n",
    "import nltk\n",
    "\n",
    "import pandas as pd\n",
    "import numpy as np\n",
    "import matplotlib.pyplot as plt\n",
    "\n",
    "from collections import Counter\n",
    "from nltk.tokenize import word_tokenize\n",
    "from nltk.corpus import stopwords"
   ]
  },
  {
   "cell_type": "code",
   "execution_count": 3,
   "id": "676c9f18",
   "metadata": {},
   "outputs": [],
   "source": [
    "%matplotlib inline"
   ]
  },
  {
   "cell_type": "code",
   "execution_count": 4,
   "id": "66f2e86f",
   "metadata": {},
   "outputs": [
    {
     "name": "stderr",
     "output_type": "stream",
     "text": [
      "[nltk_data] Downloading package punkt to /Users/simon/nltk_data...\n",
      "[nltk_data]   Package punkt is already up-to-date!\n",
      "[nltk_data] Downloading package stopwords to /Users/simon/nltk_data...\n",
      "[nltk_data]   Package stopwords is already up-to-date!\n"
     ]
    }
   ],
   "source": [
    "nltk.download('punkt')\n",
    "nltk.download('stopwords')\n",
    "\n",
    "STOP_WORDS = stopwords.words()"
   ]
  },
  {
   "cell_type": "code",
   "execution_count": null,
   "id": "a1a38e2c",
   "metadata": {},
   "outputs": [],
   "source": [
    "def cleaning(text):\n",
    "    \"\"\"\n",
    "    Convert to lowercase.\n",
    "    remove URL links, special characters and punctuation.\n",
    "    Tokenize and remove stop words.\n",
    "    \"\"\"\n",
    "    \n",
    "    text = re.sub('https?://\\S+|www\\.\\S+', '', text)\n",
    "    text = re.sub('<.*?>+', '', text)\n",
    "    text = re.sub('[%s]' % re.escape(string.punctuation), '', text)\n",
    "    text = re.sub('\\n', '', text)\n",
    "    text = re.sub('[’“”…]', '', text)\n",
    "\n",
    "    # removing the stop-words\n",
    "    text_tokens = word_tokenize(text)\n",
    "    tokens_without_sw = [\n",
    "        word for word in text_tokens if not word in STOP_WORDS]\n",
    "    filtered_sentence = (\" \").join(tokens_without_sw)\n",
    "    text = filtered_sentence\n",
    "\n",
    "    return text"
   ]
  },
  {
   "cell_type": "code",
   "execution_count": null,
   "id": "b8fb6ebb",
   "metadata": {},
   "outputs": [],
   "source": [
    "# README.md taken from https://github.com/iml-wg/HEPML-LivingReview\n",
    "with open('README.md', 'r') as file:\n",
    "        data = file.read()"
   ]
  },
  {
   "cell_type": "code",
   "execution_count": null,
   "id": "24857791",
   "metadata": {},
   "outputs": [],
   "source": [
    "df = pd.DataFrame([x.split(';') for x in data.split('\\n')])"
   ]
  },
  {
   "cell_type": "code",
   "execution_count": null,
   "id": "bae479c6",
   "metadata": {},
   "outputs": [],
   "source": [
    "df['text'] = df[0].str.lower()"
   ]
  },
  {
   "cell_type": "code",
   "execution_count": null,
   "id": "42c0070e",
   "metadata": {},
   "outputs": [],
   "source": [
    "dt = df['text'].apply(cleaning)"
   ]
  },
  {
   "cell_type": "code",
   "execution_count": null,
   "id": "5b7d0893",
   "metadata": {},
   "outputs": [],
   "source": [
    "word_count = Counter(\" \".join(dt).split()).most_common(25)\n",
    "word_frequency = pd.DataFrame(word_count, columns = ['Word', 'Frequency'])\n",
    "print(word_frequency)"
   ]
  },
  {
   "cell_type": "code",
   "execution_count": null,
   "id": "4abe79f7",
   "metadata": {},
   "outputs": [],
   "source": [
    "# process README.md in vim using\n",
    "# :g!/\\* \\[/d\n",
    "# :%s/* \\[\\([^]]*\\)\\]([^0-9]*.\\([0-9][0-9]\\)\\([0-9][0-9]\\).[0-9]*).*$/\"\\1\", \\2, \\3/\n",
    "# :%s/^\\s*//\n",
    "# :g/\\*/d\n",
    "# add line - title, year, month \n",
    "df2 = pd.read_csv('READMEtest.md')"
   ]
  },
  {
   "cell_type": "code",
   "execution_count": null,
   "id": "e497299a",
   "metadata": {},
   "outputs": [],
   "source": [
    "df2.info()"
   ]
  },
  {
   "cell_type": "code",
   "execution_count": null,
   "id": "49272f19",
   "metadata": {},
   "outputs": [],
   "source": [
    "# watch out for the space in ' year' and ' month' - bad preprocessing\n",
    "df2['title-clean'] = df2['title'].apply(cleaning)\n",
    "df2['date'] = df2[' year'] + (df2[' month']-1)/12"
   ]
  },
  {
   "cell_type": "code",
   "execution_count": null,
   "id": "8e21e396",
   "metadata": {
    "scrolled": true
   },
   "outputs": [],
   "source": [
    "# filter by year\n",
    "df2.drop(df2[df2[' year']<22].index)[['title-clean','date']]"
   ]
  },
  {
   "cell_type": "code",
   "execution_count": null,
   "id": "f20ababc",
   "metadata": {},
   "outputs": [],
   "source": [
    "word_frequency['Word']"
   ]
  },
  {
   "cell_type": "code",
   "execution_count": null,
   "id": "25becce2",
   "metadata": {},
   "outputs": [],
   "source": [
    "# filter by common title keywords\n",
    "df2filter1 = df2.drop(df2[df2['title-clean'].str.contains( word_frequency['Word'][0] )==False].index)\n",
    "df2filter2 = df2.drop(df2[df2['title-clean'].str.contains( word_frequency['Word'][6] )==False].index)\n",
    "df2filter3 = df2.drop(df2[df2['title-clean'].str.contains( word_frequency['Word'][16] )==False].index)\n",
    "df2filter4 = df2.drop(df2[df2['title-clean'].str.contains( word_frequency['Word'][21] )==False].index)\n",
    "df2filter5 = df2.drop(df2[df2['title-clean'].str.contains( word_frequency['Word'][24] )==False].index)"
   ]
  },
  {
   "cell_type": "code",
   "execution_count": null,
   "id": "2ccff9d7",
   "metadata": {},
   "outputs": [],
   "source": [
    "plt.hist(df2filter1['date'], density=False, bins=50, alpha=0.5, label=word_frequency['Word'][0])\n",
    "plt.xlim([7,23])\n",
    "plt.xlabel('date')\n",
    "plt.legend(loc='upper left')"
   ]
  },
  {
   "cell_type": "code",
   "execution_count": null,
   "id": "f1187644",
   "metadata": {},
   "outputs": [],
   "source": [
    "plt.hist(df2filter2['date'], density=False, bins=200, alpha=0.5, label=word_frequency['Word'][6])\n",
    "plt.hist(df2filter3['date'], density=False, bins=20, alpha=0.5, label=word_frequency['Word'][16])\n",
    "plt.hist(df2filter4['date'], density=False, bins=20, alpha=0.5, label=word_frequency['Word'][21])\n",
    "plt.hist(df2filter5['date'], density=False, bins=20, alpha=0.5, label=word_frequency['Word'][24])\n",
    "plt.xlim([7,23])\n",
    "plt.xlabel('date')\n",
    "plt.legend(loc='upper left')"
   ]
  },
  {
   "cell_type": "code",
   "execution_count": null,
   "id": "5b149e41",
   "metadata": {},
   "outputs": [],
   "source": []
  }
 ],
 "metadata": {
  "kernelspec": {
   "display_name": "Python 3",
   "language": "python",
   "name": "python3"
  },
  "language_info": {
   "codemirror_mode": {
    "name": "ipython",
    "version": 3
   },
   "file_extension": ".py",
   "mimetype": "text/x-python",
   "name": "python",
   "nbconvert_exporter": "python",
   "pygments_lexer": "ipython3",
   "version": "3.6.13"
  }
 },
 "nbformat": 4,
 "nbformat_minor": 5
}
