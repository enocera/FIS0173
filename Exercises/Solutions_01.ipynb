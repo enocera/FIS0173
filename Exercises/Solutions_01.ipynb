{
 "cells": [
  {
   "cell_type": "markdown",
   "id": "6316de2e",
   "metadata": {},
   "source": [
    "# FIS0173: esercizi settimane 1 e 2\n",
    "<script\n",
    "  src=\"https://cdn.mathjax.org/mathjax/latest/MathJax.js?config=TeX-AMS-MML_HTMLorMML\"\n",
    "  type=\"text/javascript\">\n",
    "</script>"
   ]
  },
  {
   "cell_type": "markdown",
   "id": "3939d716",
   "metadata": {},
   "source": [
    "## Esercizio 1: teorema di Bayes\n",
    "Supponiamo che crediate di aver contratto il COVID-19, che come sappiamo è una malattia infettiva causata dal virus SARS-CoV-2. Decidete di sottoporvi ad un test antigenico rapido. La specificità del test, cioè la probabilità che il test dia risultato negativo per un individuo realmente non infetto, è 97.5%. La sensibilità del test, cioè la probabilità che il test dia risultato positivo per un individuo realmente infetto, è 87.5%. Si supponga che la prevalenza della malattia nell'area in cui vivete è del 10%. Qual è la probabilità che siate realmente infetti se il test risulta positivo? E se risulta negativo? Come cambiano i risultati se la prevalenza della malattia si riduce all'1%?\n",
    "\n",
    "Suggerimento: si chiami $H$ l'evento \"essere infetto\", per cui $H=1$ (infetto), $H=0$ (non infetto); si chiami $Y$ l'evento \"risultato del test\", per cui $Y=1$ (test positivo), $Y=0$ (test negativo).\n",
    "\n",
    "### Soluzione\n",
    "Vogliamo calcolare p(H=h|Y=y) dove $h=0,1$ e $y=0,1$. La prevalenza della malattia definisce il prior $p(H=1)$. La specificità del test definisce la probabilità condizionata $p(Y=0|H=0)$. La sensibilità del test definisce la probabilità condizionata $p(Y=1|H=1)$. Pertanto, usando il teorema di Bayes, per una prevalenza del 10%, \n",
    "- la probabilità di essere realmente infetti se il test risulta positivo è\n",
    "\\begin{align}\n",
    "p(H=1|Y=1) & =\\frac{p(H=1)p(Y=1|H=1)}{p(Y=1|H=1)p(H=1)+p(Y=1|H=0)p(H = 0)}\\\\\n",
    "           & =\\frac{0.1\\times 0.875}{0.875\\times 0.1 + (1-0.975)\\times (1-0.1)}\\\\\n",
    "           & = 0.795 = 79.5\\%.\n",
    "\\end{align}\n",
    "- la probabilità di essere realmente infetti se il test risulta negativo è\n",
    "\\begin{align}\n",
    "p(H=1|Y=0) & =\\frac{p(H=1)p(Y=0|H=1)}{p(Y=0|H=1)p(H=1)+p(Y=0|H=0)p(H = 0)}\\\\\n",
    "           & =\\frac{0.1\\times (1- 0.875)}{(1-0.875)\\times 0.1 + 0.975\\times (1-0.1)}\\\\\n",
    "           & = 0.014 = 1.4\\%.\n",
    "\\end{align}\n",
    "\n",
    "Ripetendo i calcoli per una prevalenza dell'1%, si ottiene\n",
    "- $p(H=1|Y=1)=26\\%$\n",
    "- $p(H=1|Y=0)=0.13\\%$.\n",
    "\n",
    "Il fatto di avere solo il 26% di probabilità di essere effettivamente infettati dal COVID dopo aver fatto un test che è risultato postiivo può sembrare controintuitivo. La ragione è che un singolo test positivo è più probabilmente un falso positivo quando la malattia è rara."
   ]
  },
  {
   "cell_type": "markdown",
   "id": "a06a91f7",
   "metadata": {},
   "source": [
    "## Esercizio 2: convoluzione di due gaussiane\n",
    "Dimostrare che la convoluzione di due distribuzioni gaussiane è una distribuzione gaussiana, cioè che\n",
    "\\begin{equation}\n",
    "p(y)=\\mathcal{N}(x_1|\\mu_1,\\sigma_1^2)\\otimes\\mathcal{N}(x_2|\\mu_2,\\sigma_2^2)=\\mathcal{N}\n",
    "(y|\\mu_1+\\mu_2,\\sigma_1^2+\\sigma_2^2)\n",
    "\\nonumber\n",
    "\\end{equation}\n",
    "dove $y=x_1+x_2$, $x_1\\sim\\mathcal{N}(\\mu_1,\\sigma_1^2)$ e $x_2\\sim\\mathcal{N}(\\mu_2,\\sigma_2^2)$.\n",
    "\n",
    "### Soluzione\n",
    "L'esercizio può essere risolto in due modi differenti. Il primo modo consiste nel calcolare esplicitamente l'integrale di convoluzione. Il secondo modo consiste nell'applicare la trasformata di Fourier in modo che il prodotto di convoluzione diventi un prodotto ordinario, eseguire il prodotto e applicare un'antitrasformata  di Fourirer. Di seguito si propone il calcolo esplicito dell'integrale gaussiano.\n",
    "\\begin{align}\n",
    "I & = \\int_{-\\infty}^{+\\infty}p_1(x_1)p_2(y-x_1)dx_1\\\\ \n",
    "  & = \\frac{1}{2\\pi}\\frac{1}{\\sigma_1\\sigma_2}\\int_{-\\infty}^{+\\infty}e^{-\\frac{(x_1-\\mu_1)^2}{2\\sigma_1^2}}e^{-\\frac{(y-x_1-\\mu_2)^2}{2\\sigma_2^2}}dx_1\\\\\n",
    "  & = \\frac{1}{2\\pi}\\frac{1}{\\sigma_1\\sigma_2}\\int_{-\\infty}^{+\\infty}e^{-\\frac{1}{2}\\left(\\frac{(x_1-\\mu_1)^2}{\\sigma_1^2}+\\frac{(y-x_1-\\mu_2)^2}{\\sigma_2^2} \\right)}.\n",
    "\\end{align}\n",
    "Ricordo la formula generale per l'integrale gaussiano\n",
    "$$\\int_{-\\infty}^{+\\infty}e^{-bx^2+cx+d}dx=\\sqrt{\\frac{\\pi}{b}}e^{\\left(\\frac{c^2}{4b}+d \\right)}$$\n",
    "da cui segue, con un poco di algebra elementare, che\n",
    "$$I=\\frac{1}{\\sqrt{2\\pi(\\sigma_1^2+\\sigma_2^2)}}e^{-\\frac{1}{2}\\frac{(y-(\\mu_1+\\mu_2))^2}{\\sigma_!^2+\\sigma_2^2}}.$$"
   ]
  },
  {
   "cell_type": "markdown",
   "id": "6f1637d4",
   "metadata": {},
   "source": [
    "## Esercizio 3: varianza della somma di due variabili causali\n",
    "Dimostrare che la varianza della somma di due variabili casuali $X$ e $Y$ è data da\n",
    "$$\\mathbb{V}[X+Y]=\\mathbb{V}[X]+\\mathbb{V}[Y]+2Cov[X,Y],$$\n",
    "dove $Cov[X,Y]$ è la matrice di covarianza tra le variabili casuali $X$ e $Y$.\n",
    "\n",
    "### Soluzione\n",
    "Con un po' di semplice algebra, e usando la definizione di varianza, si può scrivere:\n",
    "\\begin{align}\n",
    "\\mathbb{V}[X+Y] & = \\mathbb{E}[(X+Y)^2]-(\\mathbb{E}[X+Y])^2\\\\\n",
    "                & = \\mathbb{E}[X^2+Y^2+2XY]-(\\mathbb{E}[X]+\\mathbb{E}[Y])^2\\\\\n",
    "                & = \\mathbb{E}[X^2]+\\mathbb{E}[Y^2] +2\\mathbb{E}[XY]-(\\mathbb{E}[X])^2-(\\mathbb{E}[Y])^2-2\\mathbb{E}[X]\\mathbb{E}[Y]\\\\\n",
    "                & = \\mathbb{V}[X]+\\mathbb{V}[Y]+2Cov[X,Y].\n",
    "\\end{align}\n",
    "Si noti che nell'ultima eguaglianza si sono usate le definizioni di varianza e di covarianza per le variabili $X$ e $Y$."
   ]
  },
  {
   "cell_type": "markdown",
   "id": "ac917ed5",
   "metadata": {},
   "source": [
    "## Esercizio 4: assenza di correlazione non significa indipendenza\n",
    "Sia $X$ una variabile casuale con distribuzione uniforme nell'intervallo $[-1,1]$ e $Y$ una variabile casuale tale che $Y=X^2$. Le due variabili non sono chiaramente indipendenti. Dimostrare che le variabili sono non correlate, cioè che $\\rho(X,Y)=0$.\n",
    "\n",
    "### Soluzione\n",
    "La correlazione tra due variabili casuali $X$ e $Y$ è definita come\n",
    "$$\\rho=corr[X,Y]=\\frac{Cov[X,Y]}{\\sqrt{\\mathbb{V}[X]\\mathbb{V}[Y]}},$$\n",
    "dove la matrice di covarianza è\n",
    "$$Cov[X,Y]=\\mathbb{E}[XY]-\\mathbb{E}[X]\\mathbb{E}[Y].$$\n",
    "Per le variabili casuali $X$ e $Y=X^2$, dobbiamo dunque determinare\n",
    "$$Cov[X,X^2]=\\mathbb{E}[X^3]-\\mathbb{E}[X]\\mathbb{E}[X^2]\\quad {\\rm e} \\quad \\mathbb{V}[X]\\mathbb{V}[X^2].$$\n",
    "Ricordando che\n",
    "$$\\mathbb{E}[X]=\\int_\\Omega xp(x) dx \\quad {\\rm e} \\quad \\mathbb{V}[X]=\\int_\\Omega (x-\\mathbb{E}[X])^2p(x) dx,$$\n",
    "con $\\Omega$ il dominio della variabile casuale $X$, è sufficiente determinare la densità di probabilità per le variabili $X$, $X^2$ e $X^3$.\n",
    "- Per $X$: sappiamo che $p(x)$ è uniforme nell'intervallo $x\\in[-1,1]$. Richiedendo che la densità di probabilità sia normalizzata a 1, e ponendo $p(x)=\\kappa$, calcolo\n",
    "$$\\int_{-1}^1\\kappa dx=1\\Longleftrightarrow 2\\kappa=1\\Longleftrightarrow \\kappa=\\frac{1}{2}.$$\n",
    "Pertanto $p(x)=1/2$. Segue che \n",
    "$$\\mathbb{E}[X]=\\int_{-1}^1 x p(x) dx = \\frac{1}{2}\\int_{-1}^1 x dx = \\frac{1}{2}\\left.\\frac{x^2}{2}\\right|_{-1}^{1}=0$$\n",
    "e che\n",
    "$$\\mathbb{V}[X]=\\int_{-1}^1 x^2 p(x) dx = \\frac{1}{2}\\int_{-1}^1 x^2 dx = \\frac{1}{2}\\left.\\frac{x^3}{3}\\right|_{-1}^{1}=\\frac{1}{3}.$$\n",
    "- Per $X^2$: avendo posto $Y=X^2$, il dominio della variabile casuale $Y$ è $y\\in[0,1]$. Allora calcolo\n",
    "$$\\mathbb{E}[X^2]=\\int_0^1 y p(y) dy = \\int_0^1 x^2 p(x) 2x dx = \\int_0^1 x^3 dx = \\left.\\frac{x^4}{4}\\right|_0^1 =\\frac{1}{4}$$\n",
    "e\n",
    "$$\\mathbb{V}[X^2]=\\int_0^1 \\left(y-\\frac{1}{4}\\right)^2 p(y) dy = \\int_0^1 \\left(x^2-\\frac{1}{4}\\right)^2 p(x) 2x dx = \\int_0^1 \\left(x^5-\\frac{1}{2}x^3+\\frac{1}{16}x\\right) dx = \\left.\\frac{x^6}{6}\\right|_0^1-\\left.\\frac{x^4}{8}\\right|_0^1+\\left.\\frac{x^2}{32}\\right|_0^1 \\approx 0.07.$$\n",
    "- Per $X^3$: avendo posto $Z=X^3$, il dominio della variabile casuale $Z$ è $z\\in[-1,1]$. Allora calcolo\n",
    "$$\\mathbb{E}[X^3]=\\int_{-1}^1 z p(z) dz = \\int_{-1}^1 x^3 p(x) 3x^2 dx = \\frac{3}{2}\\int_{-1}^1 x^5dx = \\left.\\frac{x^6}{4}\\right|_{-1}^1 =0.$$\n",
    "\n",
    "Sostituendo questi risultati nella definizione della matrice di covarianza, si ottiene $Cov[X,X^2]=0$ da cui segue che la correlazione tra le due variabili casuali $X$ e $Y=X^2$ è nulla."
   ]
  },
  {
   "cell_type": "markdown",
   "id": "9e254e80",
   "metadata": {},
   "source": [
    "## Esercizio 5: il coefficiente di correlazione tra variabili linearmente dipendenti è l'unità\n",
    "Si dimostri che, data una variabile casuale $X$ ed una variabile casuale $Y$ da essa linearmente dipendente, $Y=aX+b$, la loro correlazione è $\\rho(X,Y)=+1$ per $a>0$ e $\\rho(X,Y)=-1$ per $a<0$.\n",
    "\n",
    "### Soluzione\n",
    "Ricordo che la definizione di correlazione tra due variabili casuali è\n",
    "$$\\rho=corr[X,Y]=\\frac{Cov[X,Y]}{\\sqrt{\\mathbb{V}[X]\\mathbb{V}[Y]}}$$\n",
    "dove la matrice di covarianza è definita come\n",
    "$$Cov[X,Y]=\\mathbb{E}[XY]-\\mathbb{E}[X]\\mathbb{E}[Y].$$\n",
    "In virtù della linearità del valore di aspettazione, posso scrivere\n",
    "$$\\mathbb{E}[Y]=\\mathbb{E}[aX+b]=a\\mathbb{E}[X]+b$$\n",
    "$$\\mathbb{E}[XY]=\\mathbb{E}[aX^2+bX]=a\\mathbb{E}[X^2]+b\\mathbb{E}[X]$$\n",
    "da cui segue che\n",
    "$$Cov[X,Y]=a\\mathbb{E}[X^2]+b\\mathbb{E}[X]-a(\\mathbb{E}[X])^2-b\\mathbb{E}[X]=a(\\mathbb{E}[X^2]-(\\mathbb{E}[X])^2)=a\\mathbb{V}[X].$$\n",
    "Inoltre\n",
    "$$\\mathbb{V}[Y]=\\mathbb{V}[aX+b]=a^2\\mathbb{V}[X]$$\n",
    "pertanto\n",
    "$$\\rho=\\frac{a\\mathbb{V}[X]}{|a|\\mathbb{V}[X]}=|a|$$\n",
    "da cui segue che\n",
    "$$\\rho=+1\\qquad{\\rm per}\\ a>0;$$\n",
    "$$\\rho=-1\\qquad{\\rm per}\\ a<0.$$"
   ]
  }
 ],
 "metadata": {
  "kernelspec": {
   "display_name": "Python 3 (ipykernel)",
   "language": "python",
   "name": "python3"
  },
  "language_info": {
   "codemirror_mode": {
    "name": "ipython",
    "version": 3
   },
   "file_extension": ".py",
   "mimetype": "text/x-python",
   "name": "python",
   "nbconvert_exporter": "python",
   "pygments_lexer": "ipython3",
   "version": "3.9.7"
  }
 },
 "nbformat": 4,
 "nbformat_minor": 5
}
