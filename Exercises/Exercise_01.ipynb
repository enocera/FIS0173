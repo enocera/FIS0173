{
 "cells": [
  {
   "cell_type": "markdown",
   "id": "6316de2e",
   "metadata": {},
   "source": [
    "# FIS0173: esercizi settimane 1 e 2"
   ]
  },
  {
   "cell_type": "markdown",
   "id": "3939d716",
   "metadata": {},
   "source": [
    "## Esercizio 1: teorema di Bayes\n",
    "Supponiamo che crediate di aver contratto il COVID-19, che come sappiamo è una malattia infettiva causata dal virus SARS-CoV-2. Decidete di sottoporvi ad un test antigenico rapido. La specificità del test, cioè la probabilità che il test dia risultato negativo per un individuo realmente non infetto, è 87.5%. La sensibilità del test, cioè la probabilità che il test dia risultato positivo per un individuo realmente infetto, è 97.5%. Si supponga che la prevalenza della malattia nell'area in cui vivete è del 10%. Qual è la probabilità che siate realmente infetti se il test risulta positivo? E se risulta negativo? Come cambiano i risultati se la prevalenza della malattia si riduce all'1%?\n",
    "\n",
    "Suggerimento: si chiami H l'evento \"essere infetto\", per cui H=1 (infetto), H=0 (non infetto); si chiami Y l'evento \"risultato del test\", per cui Y=1 (test positivo), Y=0 (test negativo)."
   ]
  },
  {
   "cell_type": "markdown",
   "id": "a06a91f7",
   "metadata": {},
   "source": [
    "<script\n",
    "  src=\"https://cdn.mathjax.org/mathjax/latest/MathJax.js?config=TeX-AMS-MML_HTMLorMML\"\n",
    "  type=\"text/javascript\">\n",
    "</script>\n",
    "\n",
    "## Esercizio 2: convoluzione di due gaussiane\n",
    "Dimostrare che la convoluzione di due distribuzioni gaussiane è una distribuzione gaussiana, cioè che\n",
    "\\begin{equation}\n",
    "p(y)=\\mathcal{N}(x_1|\\mu_1,\\sigma_1^2)\\otimes\\mathcal{N}(x_2|\\mu_2,\\sigma_2^2)=\\mathcal{N}\n",
    "(y|\\mu_1+\\mu_2,\\sigma_1^2+\\sigma_2^2)\n",
    "\\nonumber\n",
    "\\end{equation}\n",
    "dove $y=x_1+x_2$, $x_1\\sim\\mathcal{N}(\\mu_1,\\sigma_1^2)$ e $x_2\\sim\\mathcal{N}(\\mu_2,\\sigma_2^2)$."
   ]
  },
  {
   "cell_type": "markdown",
   "id": "6f1637d4",
   "metadata": {},
   "source": [
    "## Esercizio 3: varianza della somma di due variabili causali\n",
    "Dimostrare che la varianza della somma di due variabili casuali $X$ e $Y$ è data da\n",
    "$$\\mathbb{V}[X+Y]=\\mathbb{V}[X]+\\mathbb{V}[Y]+2Cov[X,Y],$$\n",
    "dove $Cov[X,Y]$ è la matrice di covarianza tra le variabili casuali $X$ e $Y$."
   ]
  },
  {
   "cell_type": "markdown",
   "id": "ac917ed5",
   "metadata": {},
   "source": [
    "## Esercizio 4: assenza di correlazione non significa indipendenza\n",
    "Sia $X$ una variabile casuale con distribuzione uniforme nell'intervallo $[-1,1]$ e $Y$ una variabile casuale tale che $Y=X^2$. Le due variabili non sono chiaramente indipendenti. Dimostrare che le variabili sono non correlate, cioè che $\\rho(X,Y)=0$."
   ]
  },
  {
   "cell_type": "markdown",
   "id": "9e254e80",
   "metadata": {},
   "source": [
    "## Esercizio 5: il coefficiente di correlazione tra variabili linearmente dipendenti è l'unità\n",
    "Si dimostri che, data una variabile casuale $X$ ed una variabile casuale $Y$ da essa linearmente dipendente, $Y=aX+b$, la loro correlazione è $\\rho(X,Y)=+1$ per $a>0$ e $\\rho(X,Y)=-1$ per $a<0$."
   ]
  }
 ],
 "metadata": {
  "kernelspec": {
   "display_name": "Python 3 (ipykernel)",
   "language": "python",
   "name": "python3"
  },
  "language_info": {
   "codemirror_mode": {
    "name": "ipython",
    "version": 3
   },
   "file_extension": ".py",
   "mimetype": "text/x-python",
   "name": "python",
   "nbconvert_exporter": "python",
   "pygments_lexer": "ipython3",
   "version": "3.9.7"
  }
 },
 "nbformat": 4,
 "nbformat_minor": 5
}
